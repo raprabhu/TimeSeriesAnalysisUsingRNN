{
 "cells": [
  {
   "cell_type": "markdown",
   "metadata": {},
   "source": [
    "# Time Series using Deep learning RNN"
   ]
  },
  {
   "cell_type": "markdown",
   "metadata": {},
   "source": [
    "## The Data\n",
    "\n",
    "\n",
    "**Monthly milk production: pounds per cow. Jan 82 - Dec 95**"
   ]
  },
  {
   "cell_type": "code",
   "execution_count": 1,
   "metadata": {},
   "outputs": [],
   "source": [
    "import numpy as np\n",
    "import pandas as pd\n",
    "\n",
    "import matplotlib.pyplot as plt\n",
    "%matplotlib inline"
   ]
  },
  {
   "cell_type": "markdown",
   "metadata": {},
   "source": [
    "** Read the dataset and set on Month column **"
   ]
  },
  {
   "cell_type": "code",
   "execution_count": 2,
   "metadata": {},
   "outputs": [],
   "source": [
    "milk = pd.read_csv('monthly-milk-production.csv',index_col='Month')"
   ]
  },
  {
   "cell_type": "markdown",
   "metadata": {},
   "source": [
    "** Check out the head of the dataframe**"
   ]
  },
  {
   "cell_type": "code",
   "execution_count": 3,
   "metadata": {},
   "outputs": [
    {
     "data": {
      "text/html": [
       "<div>\n",
       "<style scoped>\n",
       "    .dataframe tbody tr th:only-of-type {\n",
       "        vertical-align: middle;\n",
       "    }\n",
       "\n",
       "    .dataframe tbody tr th {\n",
       "        vertical-align: top;\n",
       "    }\n",
       "\n",
       "    .dataframe thead th {\n",
       "        text-align: right;\n",
       "    }\n",
       "</style>\n",
       "<table border=\"1\" class=\"dataframe\">\n",
       "  <thead>\n",
       "    <tr style=\"text-align: right;\">\n",
       "      <th></th>\n",
       "      <th>Milk Production</th>\n",
       "    </tr>\n",
       "    <tr>\n",
       "      <th>Month</th>\n",
       "      <th></th>\n",
       "    </tr>\n",
       "  </thead>\n",
       "  <tbody>\n",
       "    <tr>\n",
       "      <th>01-01-1982 01:00</th>\n",
       "      <td>589</td>\n",
       "    </tr>\n",
       "    <tr>\n",
       "      <th>01-02-1982 01:00</th>\n",
       "      <td>561</td>\n",
       "    </tr>\n",
       "    <tr>\n",
       "      <th>01-03-1982 01:00</th>\n",
       "      <td>640</td>\n",
       "    </tr>\n",
       "    <tr>\n",
       "      <th>01-04-1982 01:00</th>\n",
       "      <td>656</td>\n",
       "    </tr>\n",
       "    <tr>\n",
       "      <th>01-05-1982 01:00</th>\n",
       "      <td>727</td>\n",
       "    </tr>\n",
       "  </tbody>\n",
       "</table>\n",
       "</div>"
      ],
      "text/plain": [
       "                  Milk Production\n",
       "Month                            \n",
       "01-01-1982 01:00              589\n",
       "01-02-1982 01:00              561\n",
       "01-03-1982 01:00              640\n",
       "01-04-1982 01:00              656\n",
       "01-05-1982 01:00              727"
      ]
     },
     "execution_count": 3,
     "metadata": {},
     "output_type": "execute_result"
    }
   ],
   "source": [
    "milk.head()"
   ]
  },
  {
   "cell_type": "markdown",
   "metadata": {},
   "source": [
    "** Plot out the time series data. **"
   ]
  },
  {
   "cell_type": "code",
   "execution_count": 4,
   "metadata": {},
   "outputs": [
    {
     "data": {
      "text/plain": [
       "<matplotlib.axes._subplots.AxesSubplot at 0x293e5831fd0>"
      ]
     },
     "execution_count": 4,
     "metadata": {},
     "output_type": "execute_result"
    },
    {
     "data": {
      "image/png": "[encoded data removed]",
      "text/plain": [
       "<Figure size 432x288 with 1 Axes>"
      ]
     },
     "metadata": {
      "needs_background": "light"
     },
     "output_type": "display_data"
    }
   ],
   "source": [
    "milk.plot()"
   ]
  },
  {
   "cell_type": "markdown",
   "metadata": {},
   "source": [
    "# To Check Stationarity of the data"
   ]
  },
  {
   "cell_type": "markdown",
   "metadata": {},
   "source": [
    "# 1.Rolling Statistics Method:"
   ]
  },
  {
   "cell_type": "code",
   "execution_count": 5,
   "metadata": {},
   "outputs": [
    {
     "name": "stdout",
     "output_type": "stream",
     "text": [
      "                  Milk Production\n",
      "Month                            \n",
      "01-01-1982 01:00              NaN\n",
      "01-02-1982 01:00              NaN\n",
      "01-03-1982 01:00              NaN\n",
      "01-04-1982 01:00              NaN\n",
      "01-05-1982 01:00              NaN\n",
      "01-06-1982 01:00              NaN\n",
      "01-07-1982 01:00              NaN\n",
      "01-08-1982 01:00              NaN\n",
      "01-09-1982 01:00              NaN\n",
      "01-10-1982 01:00              NaN\n",
      "01-11-1982 01:00              NaN\n",
      "01-12-1982 01:00       615.750000\n",
      "01-01-1983 01:00       616.666667\n",
      "01-02-1983 01:00       617.083333\n",
      "01-03-1983 01:00       618.166667\n",
      "01-04-1983 01:00       619.583333\n",
      "01-05-1983 01:00       620.833333\n",
      "01-06-1983 01:00       622.416667\n",
      "01-07-1983 01:00       624.083333\n",
      "01-08-1983 01:00       625.583333\n",
      "01-09-1983 01:00       626.833333\n",
      "01-10-1983 01:00       627.666667\n",
      "01-11-1983 01:00       628.666667\n",
      "01-12-1983 01:00       630.000000\n",
      "01-01-1984 01:00       632.333333\n",
      "01-02-1984 01:00       636.666667\n",
      "01-03-1984 01:00       639.583333\n",
      "01-04-1984 01:00       642.250000\n",
      "01-05-1984 01:00       644.583333\n",
      "01-06-1984 01:00       646.250000\n",
      "...                           ...\n",
      "01-07-1993 01:00       848.500000\n",
      "01-08-1993 01:00       847.000000\n",
      "01-09-1993 01:00       844.916667\n",
      "01-10-1993 01:00       843.333333\n",
      "01-11-1993 01:00       842.833333\n",
      "01-12-1993 01:00       842.583333\n",
      "01-01-1994 01:00       843.166667\n",
      "01-02-1994 01:00       843.583333\n",
      "01-03-1994 01:00       844.083333\n",
      "01-04-1994 01:00       844.416667\n",
      "01-05-1994 01:00       845.416667\n",
      "01-06-1994 01:00       847.333333\n",
      "01-07-1994 01:00       849.583333\n",
      "01-08-1994 01:00       852.083333\n",
      "01-09-1994 01:00       854.666667\n",
      "01-10-1994 01:00       856.416667\n",
      "01-11-1994 01:00       857.500000\n",
      "01-12-1994 01:00       858.416667\n",
      "01-01-1995 01:00       858.916667\n",
      "01-02-1995 01:00       859.250000\n",
      "01-03-1995 01:00       859.500000\n",
      "01-04-1995 01:00       859.583333\n",
      "01-05-1995 01:00       859.333333\n",
      "01-06-1995 01:00       858.500000\n",
      "01-07-1995 01:00       857.500000\n",
      "01-08-1995 01:00       856.750000\n",
      "01-09-1995 01:00       856.916667\n",
      "01-10-1995 01:00       858.166667\n",
      "01-11-1995 01:00       860.166667\n",
      "01-12-1995 01:00       862.666667\n",
      "\n",
      "[168 rows x 1 columns]                   Milk Production\n",
      "Month                            \n",
      "01-01-1982 01:00              NaN\n",
      "01-02-1982 01:00              NaN\n",
      "01-03-1982 01:00              NaN\n",
      "01-04-1982 01:00              NaN\n",
      "01-05-1982 01:00              NaN\n",
      "01-06-1982 01:00              NaN\n",
      "01-07-1982 01:00              NaN\n",
      "01-08-1982 01:00              NaN\n",
      "01-09-1982 01:00              NaN\n",
      "01-10-1982 01:00              NaN\n",
      "01-11-1982 01:00              NaN\n",
      "01-12-1982 01:00        56.105623\n",
      "01-01-1983 01:00        55.717360\n",
      "01-02-1983 01:00        55.280209\n",
      "01-03-1983 01:00        55.894110\n",
      "01-04-1983 01:00        57.141703\n",
      "01-05-1983 01:00        59.807013\n",
      "01-06-1983 01:00        62.209994\n",
      "01-07-1983 01:00        62.986952\n",
      "01-08-1983 01:00        62.548103\n",
      "01-09-1983 01:00        61.432644\n",
      "01-10-1983 01:00        60.759336\n",
      "01-11-1983 01:00        59.504520\n",
      "01-12-1983 01:00        58.535149\n",
      "01-01-1984 01:00        57.783819\n",
      "01-02-1984 01:00        54.195493\n",
      "01-03-1984 01:00        56.064019\n",
      "01-04-1984 01:00        58.505827\n",
      "01-05-1984 01:00        63.214582\n",
      "01-06-1984 01:00        65.491325\n",
      "...                           ...\n",
      "01-07-1993 01:00        60.609780\n",
      "01-08-1993 01:00        60.657009\n",
      "01-09-1993 01:00        62.482664\n",
      "01-10-1993 01:00        63.677216\n",
      "01-11-1993 01:00        64.359549\n",
      "01-12-1993 01:00        64.525482\n",
      "01-01-1994 01:00        64.344009\n",
      "01-02-1994 01:00        63.862720\n",
      "01-03-1994 01:00        64.221857\n",
      "01-04-1994 01:00        64.536753\n",
      "01-05-1994 01:00        66.502848\n",
      "01-06-1994 01:00        69.248345\n",
      "01-07-1994 01:00        70.861527\n",
      "01-08-1994 01:00        70.906415\n",
      "01-09-1994 01:00        68.731802\n",
      "01-10-1994 01:00        67.213984\n",
      "01-11-1994 01:00        65.604185\n",
      "01-12-1994 01:00        64.830490\n",
      "01-01-1995 01:00        64.597296\n",
      "01-02-1995 01:00        64.150569\n",
      "01-03-1995 01:00        64.282756\n",
      "01-04-1995 01:00        64.343479\n",
      "01-05-1995 01:00        63.883891\n",
      "01-06-1995 01:00        62.690437\n",
      "01-07-1995 01:00        61.920036\n",
      "01-08-1995 01:00        61.848973\n",
      "01-09-1995 01:00        61.728818\n",
      "01-10-1995 01:00        60.882649\n",
      "01-11-1995 01:00        58.164083\n",
      "01-12-1995 01:00        56.575506\n",
      "\n",
      "[168 rows x 1 columns]\n"
     ]
    }
   ],
   "source": [
    "rolmean=milk.rolling(window=12).mean()\n",
    "rolstd=milk.rolling(window=12).std()\n",
    "print(rolmean,rolstd)\n"
   ]
  },
  {
   "cell_type": "code",
   "execution_count": 6,
   "metadata": {},
   "outputs": [
    {
     "data": {
      "image/png": "[encoded data removed]",
      "text/plain": [
       "<Figure size 432x288 with 1 Axes>"
      ]
     },
     "metadata": {
      "needs_background": "light"
     },
     "output_type": "display_data"
    }
   ],
   "source": [
    "orig=plt.plot(milk,color='blue',label='orginal')\n",
    "#org=milk.plot()\n",
    "mean=plt.plot(rolmean,color='red',label='Rolling Mean')\n",
    "std=plt.plot(rolstd,color='black',label='Rolling std')\n",
    "plt.legend(loc='best')\n",
    "plt.title('Rolling Mean and standard Deviation')\n",
    "plt.show(block=False)\n",
    "             "
   ]
  },
  {
   "cell_type": "markdown",
   "metadata": {},
   "source": [
    "# 2.ADCF(Dicky Fuller test)"
   ]
  },
  {
   "cell_type": "code",
   "execution_count": 7,
   "metadata": {},
   "outputs": [
    {
     "name": "stdout",
     "output_type": "stream",
     "text": [
      "Results of Dicky Fuller test\n",
      "test Statistic                  -1.303812\n",
      "pvalue                           0.627427\n",
      "#Lags used                      13.000000\n",
      "Number of Observations Used    154.000000\n",
      "Critica value (1%)              -3.473543\n",
      "Critica value (5%)              -2.880498\n",
      "Critica value (10%)             -2.576878\n",
      "dtype: float64\n"
     ]
    }
   ],
   "source": [
    "from statsmodels.tsa.stattools import adfuller\n",
    "print ('Results of Dicky Fuller test')\n",
    "dftest=adfuller(milk['Milk Production'],autolag='AIC')\n",
    "\n",
    "dfoutput=pd.Series(dftest[0:4] ,index=['test Statistic','pvalue','#Lags used','Number of Observations Used'])\n",
    "for key, value in dftest[4].items():\n",
    "    dfoutput['Critica value (%s)'%key] =value\n",
    "\n",
    "print(dfoutput)   \n"
   ]
  },
  {
   "cell_type": "markdown",
   "metadata": {},
   "source": [
    "#### PVALUE is at higher end and we cannot reject null hypothises and the data is Time Dependent"
   ]
  },
  {
   "cell_type": "markdown",
   "metadata": {},
   "source": [
    "### Train Test Split\n",
    "\n",
    "** Let's attempt to predict a year's(1995) worth of data. (12 months or 12 steps into the future) **\n"
   ]
  },
  {
   "cell_type": "code",
   "execution_count": 8,
   "metadata": {},
   "outputs": [
    {
     "name": "stdout",
     "output_type": "stream",
     "text": [
      "<class 'pandas.core.frame.DataFrame'>\n",
      "Index: 168 entries, 01-01-1982 01:00 to 01-12-1995 01:00\n",
      "Data columns (total 1 columns):\n",
      "Milk Production    168 non-null int64\n",
      "dtypes: int64(1)\n",
      "memory usage: 2.6+ KB\n"
     ]
    }
   ],
   "source": [
    "milk.info()"
   ]
  },
  {
   "cell_type": "code",
   "execution_count": 9,
   "metadata": {},
   "outputs": [],
   "source": [
    "train_set = milk.head(156)"
   ]
  },
  {
   "cell_type": "code",
   "execution_count": 10,
   "metadata": {},
   "outputs": [],
   "source": [
    "test_set = milk.tail(12)"
   ]
  },
  {
   "cell_type": "markdown",
   "metadata": {},
   "source": [
    "### Scale the Data\n",
    "\n",
    "** Use sklearn.preprocessing to scale the data using the MinMaxScaler."
   ]
  },
  {
   "cell_type": "code",
   "execution_count": 11,
   "metadata": {},
   "outputs": [],
   "source": [
    "from sklearn.preprocessing import MinMaxScaler\n"
   ]
  },
  {
   "cell_type": "code",
   "execution_count": 12,
   "metadata": {},
   "outputs": [],
   "source": [
    "scaler = MinMaxScaler()"
   ]
  },
  {
   "cell_type": "code",
   "execution_count": 13,
   "metadata": {},
   "outputs": [
    {
     "name": "stderr",
     "output_type": "stream",
     "text": [
      "C:\\Users\\raprabhu\\AppData\\Local\\Continuum\\anaconda3\\lib\\site-packages\\sklearn\\preprocessing\\data.py:334: DataConversionWarning: Data with input dtype int64 were all converted to float64 by MinMaxScaler.\n",
      "  return self.partial_fit(X, y)\n"
     ]
    }
   ],
   "source": [
    "train_scaled = scaler.fit_transform(train_set)"
   ]
  },
  {
   "cell_type": "code",
   "execution_count": 14,
   "metadata": {},
   "outputs": [],
   "source": [
    "test_scaled = scaler.transform(test_set)"
   ]
  },
  {
   "cell_type": "code",
   "execution_count": 15,
   "metadata": {},
   "outputs": [
    {
     "data": {
      "text/plain": [
       "array([[0.67548077],\n",
       "       [0.55048077],\n",
       "       [0.81490385],\n",
       "       [0.84134615],\n",
       "       [0.99278846],\n",
       "       [0.92307692],\n",
       "       [0.82451923],\n",
       "       [0.73317308],\n",
       "       [0.63461538],\n",
       "       [0.65865385],\n",
       "       [0.58653846],\n",
       "       [0.69711538]])"
      ]
     },
     "execution_count": 15,
     "metadata": {},
     "output_type": "execute_result"
    }
   ],
   "source": [
    "test_scaled"
   ]
  },
  {
   "cell_type": "markdown",
   "metadata": {},
   "source": [
    "## Batch Function\n",
    "\n",
    "** We'll need a function that can feed batches of the training data. We'll need to do several things that are listed out as steps in the comments of the function. Remember to reference the previous batch method from the lecture for hints. Try to fill out the function template below, this is a pretty hard step, so feel free to reference the solutions! **"
   ]
  },
  {
   "cell_type": "code",
   "execution_count": 16,
   "metadata": {},
   "outputs": [],
   "source": [
    "def next_batch(training_data,batch_size,steps):\n",
    "    \n",
    "    \n",
    "    # Grab a random starting point for each batch\n",
    "    rand_start = np.random.randint(0,len(training_data)-steps) \n",
    "\n",
    "    # Create Y data for time series in the batches\n",
    "    y_batch = np.array(training_data[rand_start:rand_start+steps+1]).reshape(1,steps+1)\n",
    "\n",
    "    return y_batch[:, :-1].reshape(-1, steps, 1), y_batch[:, 1:].reshape(-1, steps, 1) "
   ]
  },
  {
   "cell_type": "markdown",
   "metadata": {},
   "source": [
    "## Setting Up The RNN Model"
   ]
  },
  {
   "cell_type": "markdown",
   "metadata": {},
   "source": [
    "** Import TensorFlow **"
   ]
  },
  {
   "cell_type": "code",
   "execution_count": 17,
   "metadata": {},
   "outputs": [],
   "source": [
    "import tensorflow as tf"
   ]
  },
  {
   "cell_type": "markdown",
   "metadata": {},
   "source": [
    "### The Constants\n",
    "\n",
    "** Define the constants in a single cell.**\n",
    "* Number of Inputs (1)\n",
    "* Number of Time Steps (12)\n",
    "* Number of Neurons per Layer (100)\n",
    "* Number of Outputs (1)\n",
    "* Learning Rate (0.003)\n",
    "* Number of Iterations for Training (4000)\n",
    "* Batch Size (1)"
   ]
  },
  {
   "cell_type": "code",
   "execution_count": 18,
   "metadata": {},
   "outputs": [],
   "source": [
    "# Just one feature, the time series\n",
    "num_inputs = 1\n",
    "# Num of steps in each batch\n",
    "num_time_steps = 12\n",
    "# 100 neuron layer, play with this\n",
    "num_neurons = 100\n",
    "# Just one output, predicted time series\n",
    "num_outputs = 1\n",
    "\n",
    "## You can also try increasing iterations, but decreasing learning rate\n",
    "# learning rate you can play with this\n",
    "learning_rate = 0.001 \n",
    "# how many iterations to go through (training steps), you can play with this\n",
    "num_train_iterations = 4000\n",
    "# Size of the batch of data\n",
    "batch_size = 1"
   ]
  },
  {
   "cell_type": "code",
   "execution_count": 19,
   "metadata": {},
   "outputs": [],
   "source": [
    "X = tf.placeholder(tf.float32, [None, num_time_steps, num_inputs])\n",
    "y = tf.placeholder(tf.float32, [None, num_time_steps, num_outputs])"
   ]
  },
  {
   "cell_type": "code",
   "execution_count": 34,
   "metadata": {},
   "outputs": [],
   "source": [
    "# Define GRUCell\n",
    "cell = tf.contrib.rnn.OutputProjectionWrapper(\n",
    "    tf.contrib.rnn.BasicLSTMCell(num_units=num_neurons, activation=tf.nn.relu),\n",
    "    output_size=num_outputs) "
   ]
  },
  {
   "cell_type": "markdown",
   "metadata": {},
   "source": [
    "** Now pass in the cells variable into tf.nn.dynamic_rnn, along with your first placeholder (X)**"
   ]
  },
  {
   "cell_type": "code",
   "execution_count": 21,
   "metadata": {},
   "outputs": [
    {
     "name": "stdout",
     "output_type": "stream",
     "text": [
      "WARNING:tensorflow:From <ipython-input-21-f7b88a02a855>:1: dynamic_rnn (from tensorflow.python.ops.rnn) is deprecated and will be removed in a future version.\n",
      "Instructions for updating:\n",
      "Please use `keras.layers.RNN(cell)`, which is equivalent to this API\n",
      "WARNING:tensorflow:From C:\\Users\\raprabhu\\AppData\\Local\\Continuum\\anaconda3\\lib\\site-packages\\tensorflow\\python\\ops\\tensor_array_ops.py:162: colocate_with (from tensorflow.python.framework.ops) is deprecated and will be removed in a future version.\n",
      "Instructions for updating:\n",
      "Colocations handled automatically by placer.\n"
     ]
    }
   ],
   "source": [
    "outputs, states = tf.nn.dynamic_rnn(cell, X, dtype=tf.float32)"
   ]
  },
  {
   "cell_type": "markdown",
   "metadata": {},
   "source": [
    "### Loss Function and Optimizer\n",
    "\n",
    "** Create a Mean Squared Error Loss Function and use it to minimize an AdamOptimizer, remember to pass in your learning rate. **"
   ]
  },
  {
   "cell_type": "code",
   "execution_count": 22,
   "metadata": {},
   "outputs": [],
   "source": [
    "loss = tf.reduce_mean(tf.square(outputs - y)) # MSE\n",
    "optimizer = tf.train.AdamOptimizer(learning_rate=learning_rate)\n",
    "train = optimizer.minimize(loss)"
   ]
  },
  {
   "cell_type": "markdown",
   "metadata": {},
   "source": [
    "** Initialize the global variables **"
   ]
  },
  {
   "cell_type": "code",
   "execution_count": 23,
   "metadata": {},
   "outputs": [],
   "source": [
    "init = tf.global_variables_initializer()"
   ]
  },
  {
   "cell_type": "markdown",
   "metadata": {},
   "source": [
    "** Create an instance of tf.train.Saver() **"
   ]
  },
  {
   "cell_type": "code",
   "execution_count": 24,
   "metadata": {},
   "outputs": [],
   "source": [
    "saver = tf.train.Saver()"
   ]
  },
  {
   "cell_type": "markdown",
   "metadata": {},
   "source": [
    "### Session\n",
    "\n",
    "** Run a tf.Session that trains on the batches created by your next_batch function. Also add an a loss evaluation for every 100 training iterations. **"
   ]
  },
  {
   "cell_type": "code",
   "execution_count": 25,
   "metadata": {},
   "outputs": [],
   "source": [
    "gpu_options = tf.GPUOptions(per_process_gpu_memory_fraction=0.9)"
   ]
  },
  {
   "cell_type": "code",
   "execution_count": 26,
   "metadata": {},
   "outputs": [
    {
     "name": "stdout",
     "output_type": "stream",
     "text": [
      "0 \tMSE: 0.15872048\n",
      "100 \tMSE: 0.05607578\n",
      "200 \tMSE: 0.035299968\n",
      "300 \tMSE: 0.02368849\n",
      "400 \tMSE: 0.025866529\n",
      "500 \tMSE: 0.010668305\n",
      "600 \tMSE: 0.018470654\n",
      "700 \tMSE: 0.008502097\n",
      "800 \tMSE: 0.0064963712\n",
      "900 \tMSE: 0.0052793887\n",
      "1000 \tMSE: 0.0042691547\n",
      "1100 \tMSE: 0.0055771363\n",
      "1200 \tMSE: 0.0062443153\n",
      "1300 \tMSE: 0.0069636554\n",
      "1400 \tMSE: 0.0059301504\n",
      "1500 \tMSE: 0.0064280774\n",
      "1600 \tMSE: 0.0089863185\n",
      "1700 \tMSE: 0.00926358\n",
      "1800 \tMSE: 0.005591788\n",
      "1900 \tMSE: 0.0063230763\n",
      "2000 \tMSE: 0.006606754\n",
      "2100 \tMSE: 0.0055753146\n",
      "2200 \tMSE: 0.0041228137\n",
      "2300 \tMSE: 0.0053667785\n",
      "2400 \tMSE: 0.00633584\n",
      "2500 \tMSE: 0.0093650585\n",
      "2600 \tMSE: 0.00404684\n",
      "2700 \tMSE: 0.003363572\n",
      "2800 \tMSE: 0.005885226\n",
      "2900 \tMSE: 0.00318507\n",
      "3000 \tMSE: 0.005489418\n",
      "3100 \tMSE: 0.003153403\n",
      "3200 \tMSE: 0.0038706248\n",
      "3300 \tMSE: 0.003899663\n",
      "3400 \tMSE: 0.009452819\n",
      "3500 \tMSE: 0.00200449\n",
      "3600 \tMSE: 0.0034227034\n",
      "3700 \tMSE: 0.0049741715\n",
      "3800 \tMSE: 0.0046458743\n",
      "3900 \tMSE: 0.0038634099\n"
     ]
    }
   ],
   "source": [
    "with tf.Session(config=tf.ConfigProto(gpu_options=gpu_options)) as sess:\n",
    "    sess.run(init)\n",
    "    \n",
    "    for iteration in range(num_train_iterations):\n",
    "        \n",
    "        X_batch, y_batch = next_batch(train_scaled,batch_size,num_time_steps)\n",
    "        sess.run(train, feed_dict={X: X_batch, y: y_batch})\n",
    "        \n",
    "        if iteration % 100 == 0:\n",
    "            \n",
    "            mse = loss.eval(feed_dict={X: X_batch, y: y_batch})\n",
    "            print(iteration, \"\\tMSE:\", mse)\n",
    "    \n",
    "    # Save Model for Later\n",
    "    saver.save(sess, \"./ex_time_series_model\")"
   ]
  },
  {
   "cell_type": "markdown",
   "metadata": {},
   "source": [
    "______"
   ]
  },
  {
   "cell_type": "markdown",
   "metadata": {},
   "source": [
    "## Predicting Future (Test Data)"
   ]
  },
  {
   "cell_type": "markdown",
   "metadata": {},
   "source": [
    "** Show the test_set (the last 12 months of your original complete data set) **"
   ]
  },
  {
   "cell_type": "code",
   "execution_count": 27,
   "metadata": {},
   "outputs": [
    {
     "data": {
      "text/html": [
       "<div>\n",
       "<style scoped>\n",
       "    .dataframe tbody tr th:only-of-type {\n",
       "        vertical-align: middle;\n",
       "    }\n",
       "\n",
       "    .dataframe tbody tr th {\n",
       "        vertical-align: top;\n",
       "    }\n",
       "\n",
       "    .dataframe thead th {\n",
       "        text-align: right;\n",
       "    }\n",
       "</style>\n",
       "<table border=\"1\" class=\"dataframe\">\n",
       "  <thead>\n",
       "    <tr style=\"text-align: right;\">\n",
       "      <th></th>\n",
       "      <th>Milk Production</th>\n",
       "    </tr>\n",
       "    <tr>\n",
       "      <th>Month</th>\n",
       "      <th></th>\n",
       "    </tr>\n",
       "  </thead>\n",
       "  <tbody>\n",
       "    <tr>\n",
       "      <th>01-01-1995 01:00</th>\n",
       "      <td>834</td>\n",
       "    </tr>\n",
       "    <tr>\n",
       "      <th>01-02-1995 01:00</th>\n",
       "      <td>782</td>\n",
       "    </tr>\n",
       "    <tr>\n",
       "      <th>01-03-1995 01:00</th>\n",
       "      <td>892</td>\n",
       "    </tr>\n",
       "    <tr>\n",
       "      <th>01-04-1995 01:00</th>\n",
       "      <td>903</td>\n",
       "    </tr>\n",
       "    <tr>\n",
       "      <th>01-05-1995 01:00</th>\n",
       "      <td>966</td>\n",
       "    </tr>\n",
       "    <tr>\n",
       "      <th>01-06-1995 01:00</th>\n",
       "      <td>937</td>\n",
       "    </tr>\n",
       "    <tr>\n",
       "      <th>01-07-1995 01:00</th>\n",
       "      <td>896</td>\n",
       "    </tr>\n",
       "    <tr>\n",
       "      <th>01-08-1995 01:00</th>\n",
       "      <td>858</td>\n",
       "    </tr>\n",
       "    <tr>\n",
       "      <th>01-09-1995 01:00</th>\n",
       "      <td>817</td>\n",
       "    </tr>\n",
       "    <tr>\n",
       "      <th>01-10-1995 01:00</th>\n",
       "      <td>827</td>\n",
       "    </tr>\n",
       "    <tr>\n",
       "      <th>01-11-1995 01:00</th>\n",
       "      <td>797</td>\n",
       "    </tr>\n",
       "    <tr>\n",
       "      <th>01-12-1995 01:00</th>\n",
       "      <td>843</td>\n",
       "    </tr>\n",
       "  </tbody>\n",
       "</table>\n",
       "</div>"
      ],
      "text/plain": [
       "                  Milk Production\n",
       "Month                            \n",
       "01-01-1995 01:00              834\n",
       "01-02-1995 01:00              782\n",
       "01-03-1995 01:00              892\n",
       "01-04-1995 01:00              903\n",
       "01-05-1995 01:00              966\n",
       "01-06-1995 01:00              937\n",
       "01-07-1995 01:00              896\n",
       "01-08-1995 01:00              858\n",
       "01-09-1995 01:00              817\n",
       "01-10-1995 01:00              827\n",
       "01-11-1995 01:00              797\n",
       "01-12-1995 01:00              843"
      ]
     },
     "execution_count": 27,
     "metadata": {},
     "output_type": "execute_result"
    }
   ],
   "source": [
    "test_set"
   ]
  },
  {
   "cell_type": "markdown",
   "metadata": {},
   "source": [
    "** Now we want to attempt to predict these 12 months of data, using only the training data set model. "
   ]
  },
  {
   "cell_type": "markdown",
   "metadata": {},
   "source": [
    "** Fill out the session code below to generate 12 months of data based off the last 12 months of data from the training set. The hardest part about this is adjusting the arrays with their shapes and sizes.**"
   ]
  },
  {
   "cell_type": "code",
   "execution_count": 28,
   "metadata": {},
   "outputs": [
    {
     "name": "stdout",
     "output_type": "stream",
     "text": [
      "WARNING:tensorflow:From C:\\Users\\raprabhu\\AppData\\Local\\Continuum\\anaconda3\\lib\\site-packages\\tensorflow\\python\\training\\saver.py:1266: checkpoint_exists (from tensorflow.python.training.checkpoint_management) is deprecated and will be removed in a future version.\n",
      "Instructions for updating:\n",
      "Use standard file APIs to check for files with this prefix.\n",
      "INFO:tensorflow:Restoring parameters from ./ex_time_series_model\n"
     ]
    }
   ],
   "source": [
    "with tf.Session() as sess:\n",
    "    \n",
    "    # Use your Saver instance to restore your saved rnn time series model\n",
    "    saver.restore(sess, \"./ex_time_series_model\")\n",
    "\n",
    "    # Create a numpy array for your genreative seed from the last 12 months of the \n",
    "    # training set data. Hint: Just use tail(12) and then pass it to an np.array\n",
    "    train_seed = list(train_scaled[-12:])\n",
    "    \n",
    "    ## Now create a for loop that \n",
    "    for iteration in range(12):\n",
    "        X_batch = np.array(train_seed[-num_time_steps:]).reshape(1, num_time_steps, 1)\n",
    "        y_pred = sess.run(outputs, feed_dict={X: X_batch})\n",
    "        train_seed.append(y_pred[0, -1, 0])"
   ]
  },
  {
   "cell_type": "markdown",
   "metadata": {},
   "source": [
    "** Show the result of the predictions. **"
   ]
  },
  {
   "cell_type": "code",
   "execution_count": 29,
   "metadata": {},
   "outputs": [
    {
     "data": {
      "text/plain": [
       "[array([0.66105769]),\n",
       " array([0.54086538]),\n",
       " array([0.80769231]),\n",
       " array([0.83894231]),\n",
       " array([1.]),\n",
       " array([0.94711538]),\n",
       " array([0.85336538]),\n",
       " array([0.75480769]),\n",
       " array([0.62980769]),\n",
       " array([0.62259615]),\n",
       " array([0.52884615]),\n",
       " array([0.625]),\n",
       " 0.6190313,\n",
       " 0.6391243,\n",
       " 0.7206217,\n",
       " 0.88328713,\n",
       " 1.019077,\n",
       " 1.0466787,\n",
       " 0.96030366,\n",
       " 0.81581384,\n",
       " 0.71755797,\n",
       " 0.62301445,\n",
       " 0.60193187,\n",
       " 0.6076815]"
      ]
     },
     "execution_count": 29,
     "metadata": {},
     "output_type": "execute_result"
    }
   ],
   "source": [
    "train_seed"
   ]
  },
  {
   "cell_type": "markdown",
   "metadata": {},
   "source": [
    "** Grab the portion of the results that are the generated values and apply inverse_transform on them to turn them back into milk production value units (lbs per cow). Also reshape the results to be (12,1) so we can easily add them to the test_set dataframe.**"
   ]
  },
  {
   "cell_type": "code",
   "execution_count": 30,
   "metadata": {},
   "outputs": [],
   "source": [
    "results = scaler.inverse_transform(np.array(train_seed[12:]).reshape(12,1))"
   ]
  },
  {
   "cell_type": "markdown",
   "metadata": {},
   "source": [
    "** Create a new column on the test_set data called \"Generated\"."
   ]
  },
  {
   "cell_type": "code",
   "execution_count": 31,
   "metadata": {},
   "outputs": [
    {
     "name": "stderr",
     "output_type": "stream",
     "text": [
      "C:\\Users\\raprabhu\\AppData\\Local\\Continuum\\anaconda3\\lib\\site-packages\\ipykernel_launcher.py:1: SettingWithCopyWarning: \n",
      "A value is trying to be set on a copy of a slice from a DataFrame.\n",
      "Try using .loc[row_indexer,col_indexer] = value instead\n",
      "\n",
      "See the caveats in the documentation: http://pandas.pydata.org/pandas-docs/stable/indexing.html#indexing-view-versus-copy\n",
      "  \"\"\"Entry point for launching an IPython kernel.\n"
     ]
    }
   ],
   "source": [
    "test_set['Generated'] = results"
   ]
  },
  {
   "cell_type": "markdown",
   "metadata": {},
   "source": [
    "** View the test_set dataframe. **"
   ]
  },
  {
   "cell_type": "code",
   "execution_count": 32,
   "metadata": {},
   "outputs": [
    {
     "data": {
      "text/html": [
       "<div>\n",
       "<style scoped>\n",
       "    .dataframe tbody tr th:only-of-type {\n",
       "        vertical-align: middle;\n",
       "    }\n",
       "\n",
       "    .dataframe tbody tr th {\n",
       "        vertical-align: top;\n",
       "    }\n",
       "\n",
       "    .dataframe thead th {\n",
       "        text-align: right;\n",
       "    }\n",
       "</style>\n",
       "<table border=\"1\" class=\"dataframe\">\n",
       "  <thead>\n",
       "    <tr style=\"text-align: right;\">\n",
       "      <th></th>\n",
       "      <th>Milk Production</th>\n",
       "      <th>Generated</th>\n",
       "    </tr>\n",
       "    <tr>\n",
       "      <th>Month</th>\n",
       "      <th></th>\n",
       "      <th></th>\n",
       "    </tr>\n",
       "  </thead>\n",
       "  <tbody>\n",
       "    <tr>\n",
       "      <th>01-01-1995 01:00</th>\n",
       "      <td>834</td>\n",
       "      <td>810.517029</td>\n",
       "    </tr>\n",
       "    <tr>\n",
       "      <th>01-02-1995 01:00</th>\n",
       "      <td>782</td>\n",
       "      <td>818.875671</td>\n",
       "    </tr>\n",
       "    <tr>\n",
       "      <th>01-03-1995 01:00</th>\n",
       "      <td>892</td>\n",
       "      <td>852.778687</td>\n",
       "    </tr>\n",
       "    <tr>\n",
       "      <th>01-04-1995 01:00</th>\n",
       "      <td>903</td>\n",
       "      <td>920.447449</td>\n",
       "    </tr>\n",
       "    <tr>\n",
       "      <th>01-05-1995 01:00</th>\n",
       "      <td>966</td>\n",
       "      <td>976.936035</td>\n",
       "    </tr>\n",
       "    <tr>\n",
       "      <th>01-06-1995 01:00</th>\n",
       "      <td>937</td>\n",
       "      <td>988.418335</td>\n",
       "    </tr>\n",
       "    <tr>\n",
       "      <th>01-07-1995 01:00</th>\n",
       "      <td>896</td>\n",
       "      <td>952.486328</td>\n",
       "    </tr>\n",
       "    <tr>\n",
       "      <th>01-08-1995 01:00</th>\n",
       "      <td>858</td>\n",
       "      <td>892.378540</td>\n",
       "    </tr>\n",
       "    <tr>\n",
       "      <th>01-09-1995 01:00</th>\n",
       "      <td>817</td>\n",
       "      <td>851.504089</td>\n",
       "    </tr>\n",
       "    <tr>\n",
       "      <th>01-10-1995 01:00</th>\n",
       "      <td>827</td>\n",
       "      <td>812.174011</td>\n",
       "    </tr>\n",
       "    <tr>\n",
       "      <th>01-11-1995 01:00</th>\n",
       "      <td>797</td>\n",
       "      <td>803.403687</td>\n",
       "    </tr>\n",
       "    <tr>\n",
       "      <th>01-12-1995 01:00</th>\n",
       "      <td>843</td>\n",
       "      <td>805.795471</td>\n",
       "    </tr>\n",
       "  </tbody>\n",
       "</table>\n",
       "</div>"
      ],
      "text/plain": [
       "                  Milk Production   Generated\n",
       "Month                                        \n",
       "01-01-1995 01:00              834  810.517029\n",
       "01-02-1995 01:00              782  818.875671\n",
       "01-03-1995 01:00              892  852.778687\n",
       "01-04-1995 01:00              903  920.447449\n",
       "01-05-1995 01:00              966  976.936035\n",
       "01-06-1995 01:00              937  988.418335\n",
       "01-07-1995 01:00              896  952.486328\n",
       "01-08-1995 01:00              858  892.378540\n",
       "01-09-1995 01:00              817  851.504089\n",
       "01-10-1995 01:00              827  812.174011\n",
       "01-11-1995 01:00              797  803.403687\n",
       "01-12-1995 01:00              843  805.795471"
      ]
     },
     "execution_count": 32,
     "metadata": {},
     "output_type": "execute_result"
    }
   ],
   "source": [
    "test_set"
   ]
  },
  {
   "cell_type": "markdown",
   "metadata": {},
   "source": [
    "** Plot out the two columns for comparison. **"
   ]
  },
  {
   "cell_type": "code",
   "execution_count": 33,
   "metadata": {},
   "outputs": [
    {
     "data": {
      "text/plain": [
       "<matplotlib.axes._subplots.AxesSubplot at 0x293f0dbae80>"
      ]
     },
     "execution_count": 33,
     "metadata": {},
     "output_type": "execute_result"
    },
    {
     "data": {
      "image/png": "[encoded data removed]",
      "text/plain": [
       "<Figure size 432x288 with 1 Axes>"
      ]
     },
     "metadata": {
      "needs_background": "light"
     },
     "output_type": "display_data"
    }
   ],
   "source": [
    "test_set.plot()"
   ]
  },
  {
   "cell_type": "markdown",
   "metadata": {
    "collapsed": true
   },
   "source": []
  },
  {
   "cell_type": "code",
   "execution_count": null,
   "metadata": {},
   "outputs": [],
   "source": []
  }
 ],
 "metadata": {
  "kernelspec": {
   "display_name": "Python 3",
   "language": "python",
   "name": "python3"
  },
  "language_info": {
   "codemirror_mode": {
    "name": "ipython",
    "version": 3
   },
   "file_extension": ".py",
   "mimetype": "text/x-python",
   "name": "python",
   "nbconvert_exporter": "python",
   "pygments_lexer": "ipython3",
   "version": "3.7.1"
  }
 },
 "nbformat": 4,
 "nbformat_minor": 2
}
